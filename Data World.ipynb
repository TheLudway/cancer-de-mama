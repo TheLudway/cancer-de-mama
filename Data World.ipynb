{
 "cells": [
  {
   "cell_type": "markdown",
   "metadata": {},
   "source": [
    "# Aquí se pondrá todo lo que tiene que ver con el *dataset* conseguido de la página *Data World* el dataset se consiguió [Aquí](https://data.world/deviramanan2016/nki-breast-cancer-data)"
   ]
  },
  {
   "cell_type": "code",
   "execution_count": null,
   "metadata": {
    "vscode": {
     "languageId": "plaintext"
    }
   },
   "outputs": [],
   "source": []
  }
 ],
 "metadata": {
  "language_info": {
   "name": "python"
  }
 },
 "nbformat": 4,
 "nbformat_minor": 2
}
