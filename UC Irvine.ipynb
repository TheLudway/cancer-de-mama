{
 "cells": [
  {
   "cell_type": "markdown",
   "metadata": {},
   "source": [
    "# Aquí se pondrá todo lo que tiene que ver con el *dataset* conseguido de la página *UC Irvine* el dataset se consiguió [Aquí](http://archive.ics.uci.edu/dataset/14/breast+cancer)"
   ]
  }
 ],
 "metadata": {
  "language_info": {
   "name": "python"
  }
 },
 "nbformat": 4,
 "nbformat_minor": 2
}
