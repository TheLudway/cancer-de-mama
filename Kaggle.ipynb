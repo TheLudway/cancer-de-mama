{
 "cells": [
  {
   "cell_type": "markdown",
   "metadata": {},
   "source": [
    "# Aquí se pondrá todo lo que tiene que ver con el *dataset* conseguido de la página *Kaggle* el dataset se consiguió [Aquí](https://www.kaggle.com/datasets/reihanenamdari/breast-cancer)"
   ]
  }
 ],
 "metadata": {
  "language_info": {
   "name": "python"
  }
 },
 "nbformat": 4,
 "nbformat_minor": 2
}
